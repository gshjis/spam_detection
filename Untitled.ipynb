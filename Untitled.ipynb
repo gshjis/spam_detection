{
 "cells": [
  {
   "cell_type": "code",
   "execution_count": 8,
   "id": "dbbf0c8d-1fa4-437f-a120-898ec626c122",
   "metadata": {},
   "outputs": [],
   "source": [
    "#import all libs\n",
    "import numpy as np\n",
    "import pandas as pd\n",
    "from sklearn.feature_extraction.text import CountVectorizer\n",
    "from sklearn.naive_bayes import MultinomialNB\n",
    "from sklearn.metrics import accuracy_score\n",
    "from sklearn.metrics import confusion_matrix\n",
    "from sklearn.metrics import classification_report"
   ]
  },
  {
   "cell_type": "code",
   "execution_count": 3,
   "id": "0ec1475c-eb61-4b0b-816c-1e76f57bea86",
   "metadata": {},
   "outputs": [
    {
     "name": "stdout",
     "output_type": "stream",
     "text": [
      "0.971270335756317\n"
     ]
    }
   ],
   "source": [
    "#load data\n",
    "train = pd.read_csv(\"train.csv\")\n",
    "test = pd.read_csv(\"test.csv\")\n",
    "train = train.dropna()\n",
    "test = test.dropna()\n",
    "\n",
    "#split data\n",
    "X_train = train[\"email\"]\n",
    "y_train = train[\"label\"]\n",
    "X_test = test[\"email\"]\n",
    "y_test = test[\"label\"]\n",
    "\n",
    "#create a bag of words model\n",
    "vectorizer = CountVectorizer()\n",
    "X_train = vectorizer.fit_transform(X_train)\n",
    "X_test = vectorizer.transform(X_test)\n",
    "\n",
    "#train the model\n",
    "model = MultinomialNB()\n",
    "model.fit(X_train, y_train)\n",
    "\n",
    "#accuracy\n",
    "y_pred = model.predict(X_test)\n",
    "accuracy = accuracy_score(y_test, y_pred)\n",
    "\n",
    "print(accuracy)"
   ]
  },
  {
   "cell_type": "code",
   "execution_count": 6,
   "id": "fa3d373e-18ac-4942-8ce7-e64e0a5cdd8d",
   "metadata": {},
   "outputs": [
    {
     "name": "stdout",
     "output_type": "stream",
     "text": [
      "Confusion Matrix (Test):\n",
      "[[2410   57]\n",
      " [  26  396]]\n"
     ]
    }
   ],
   "source": [
    "print(\"Confusion Matrix (Test):\")\n",
    "print(confusion_matrix(y_test, y_pred))"
   ]
  },
  {
   "cell_type": "code",
   "execution_count": 9,
   "id": "fb8226c0-4822-407c-b791-6e8c86922454",
   "metadata": {},
   "outputs": [
    {
     "name": "stdout",
     "output_type": "stream",
     "text": [
      "Classification Report:\n",
      "              precision    recall  f1-score   support\n",
      "\n",
      "         ham       0.99      0.98      0.98      2467\n",
      "        spam       0.87      0.94      0.91       422\n",
      "\n",
      "    accuracy                           0.97      2889\n",
      "   macro avg       0.93      0.96      0.94      2889\n",
      "weighted avg       0.97      0.97      0.97      2889\n",
      "\n"
     ]
    }
   ],
   "source": [
    "#classification report\n",
    "print(\"Classification Report:\")\n",
    "print(classification_report(y_test, y_pred))"
   ]
  }
 ],
 "metadata": {
  "kernelspec": {
   "display_name": "Python 3 (ipykernel)",
   "language": "python",
   "name": "python3"
  },
  "language_info": {
   "codemirror_mode": {
    "name": "ipython",
    "version": 3
   },
   "file_extension": ".py",
   "mimetype": "text/x-python",
   "name": "python",
   "nbconvert_exporter": "python",
   "pygments_lexer": "ipython3",
   "version": "3.10.0"
  }
 },
 "nbformat": 4,
 "nbformat_minor": 5
}
